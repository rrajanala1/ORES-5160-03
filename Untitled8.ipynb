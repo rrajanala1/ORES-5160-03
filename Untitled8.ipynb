{
  "nbformat": 4,
  "nbformat_minor": 0,
  "metadata": {
    "colab": {
      "provenance": [],
      "authorship_tag": "ABX9TyMCsoW8Z5c3JPphgpRcRA56",
      "include_colab_link": true
    },
    "kernelspec": {
      "name": "python3",
      "display_name": "Python 3"
    },
    "language_info": {
      "name": "python"
    }
  },
  "cells": [
    {
      "cell_type": "markdown",
      "metadata": {
        "id": "view-in-github",
        "colab_type": "text"
      },
      "source": [
        "<a href=\"https://colab.research.google.com/github/rrajanala1/ORES-5160-03/blob/main/Untitled8.ipynb\" target=\"_parent\"><img src=\"https://colab.research.google.com/assets/colab-badge.svg\" alt=\"Open In Colab\"/></a>"
      ]
    },
    {
      "cell_type": "code",
      "execution_count": 49,
      "metadata": {
        "id": "Yf8lZE2WgxWW"
      },
      "outputs": [],
      "source": [
        "import pandas as pd\n",
        "import numpy as np"
      ]
    },
    {
      "cell_type": "code",
      "source": [
        "data = pd.read_csv('/content/diabetes1_cleaned_3.csv')"
      ],
      "metadata": {
        "id": "NujAvFUoie8W"
      },
      "execution_count": 50,
      "outputs": []
    },
    {
      "cell_type": "code",
      "source": [
        "data.columns"
      ],
      "metadata": {
        "colab": {
          "base_uri": "https://localhost:8080/"
        },
        "id": "Yk6Pw8jlixp-",
        "outputId": "990ffdd5-4ffb-4794-e140-85a05d65b74f"
      },
      "execution_count": 51,
      "outputs": [
        {
          "output_type": "execute_result",
          "data": {
            "text/plain": [
              "Index(['Glucose', 'BloodPressure', 'SkinThickness', 'Insulin', 'BMI',\n",
              "       'DiabetesPedigreeFunction', 'Age', 'Outcome'],\n",
              "      dtype='object')"
            ]
          },
          "metadata": {},
          "execution_count": 51
        }
      ]
    },
    {
      "cell_type": "code",
      "source": [
        "data.info()"
      ],
      "metadata": {
        "colab": {
          "base_uri": "https://localhost:8080/"
        },
        "id": "5X4hYf1Dixdz",
        "outputId": "76665d0c-deef-4f12-aaad-74984056004c"
      },
      "execution_count": 52,
      "outputs": [
        {
          "output_type": "stream",
          "name": "stdout",
          "text": [
            "<class 'pandas.core.frame.DataFrame'>\n",
            "RangeIndex: 768 entries, 0 to 767\n",
            "Data columns (total 8 columns):\n",
            " #   Column                    Non-Null Count  Dtype  \n",
            "---  ------                    --------------  -----  \n",
            " 0   Glucose                   768 non-null    int64  \n",
            " 1   BloodPressure             768 non-null    int64  \n",
            " 2   SkinThickness             768 non-null    int64  \n",
            " 3   Insulin                   768 non-null    int64  \n",
            " 4   BMI                       768 non-null    float64\n",
            " 5   DiabetesPedigreeFunction  768 non-null    float64\n",
            " 6   Age                       768 non-null    int64  \n",
            " 7   Outcome                   768 non-null    int64  \n",
            "dtypes: float64(2), int64(6)\n",
            "memory usage: 48.1 KB\n"
          ]
        }
      ]
    },
    {
      "cell_type": "code",
      "source": [
        "data.head"
      ],
      "metadata": {
        "colab": {
          "base_uri": "https://localhost:8080/"
        },
        "id": "vrKl4vYNi77B",
        "outputId": "816f2c01-4b97-4d01-fc15-6b27368a8e37"
      },
      "execution_count": 53,
      "outputs": [
        {
          "output_type": "execute_result",
          "data": {
            "text/plain": [
              "<bound method NDFrame.head of      Glucose  BloodPressure  SkinThickness  Insulin   BMI  \\\n",
              "0        148             72             35        0  33.6   \n",
              "1         85             66             29        0  26.6   \n",
              "2        183             64              0        0  23.3   \n",
              "3         89             66             23       94  28.1   \n",
              "4        137             40             35      168  43.1   \n",
              "..       ...            ...            ...      ...   ...   \n",
              "763      101             76             48      180  32.9   \n",
              "764      122             70             27        0  36.8   \n",
              "765      121             72             23      112  26.2   \n",
              "766      126             60              0        0  30.1   \n",
              "767       93             70             31        0  30.4   \n",
              "\n",
              "     DiabetesPedigreeFunction  Age  Outcome  \n",
              "0                       0.627   50        1  \n",
              "1                       0.351   31        0  \n",
              "2                       0.672   32        1  \n",
              "3                       0.167   21        0  \n",
              "4                       2.288   33        1  \n",
              "..                        ...  ...      ...  \n",
              "763                     0.171   63        0  \n",
              "764                     0.340   27        0  \n",
              "765                     0.245   30        0  \n",
              "766                     0.349   47        1  \n",
              "767                     0.315   23        0  \n",
              "\n",
              "[768 rows x 8 columns]>"
            ]
          },
          "metadata": {},
          "execution_count": 53
        }
      ]
    },
    {
      "cell_type": "code",
      "source": [
        "data.describe()"
      ],
      "metadata": {
        "colab": {
          "base_uri": "https://localhost:8080/",
          "height": 300
        },
        "id": "YZ-GxjZrjAVx",
        "outputId": "41cfd5e6-f4ee-4fed-8574-578574fe6532"
      },
      "execution_count": 54,
      "outputs": [
        {
          "output_type": "execute_result",
          "data": {
            "text/plain": [
              "          Glucose  BloodPressure  SkinThickness     Insulin         BMI  \\\n",
              "count  768.000000     768.000000     768.000000  768.000000  768.000000   \n",
              "mean   120.894531      69.105469      20.536458   79.799479   31.992578   \n",
              "std     31.972618      19.355807      15.952218  115.244002    7.884160   \n",
              "min      0.000000       0.000000       0.000000    0.000000    0.000000   \n",
              "25%     99.000000      62.000000       0.000000    0.000000   27.300000   \n",
              "50%    117.000000      72.000000      23.000000   30.500000   32.000000   \n",
              "75%    140.250000      80.000000      32.000000  127.250000   36.600000   \n",
              "max    199.000000     122.000000      99.000000  846.000000   67.100000   \n",
              "\n",
              "       DiabetesPedigreeFunction         Age     Outcome  \n",
              "count                768.000000  768.000000  768.000000  \n",
              "mean                   0.471876   33.240885    0.348958  \n",
              "std                    0.331329   11.760232    0.476951  \n",
              "min                    0.078000   21.000000    0.000000  \n",
              "25%                    0.243750   24.000000    0.000000  \n",
              "50%                    0.372500   29.000000    0.000000  \n",
              "75%                    0.626250   41.000000    1.000000  \n",
              "max                    2.420000   81.000000    1.000000  "
            ],
            "text/html": [
              "\n",
              "  <div id=\"df-0c6d755f-a966-4134-9c18-237b0e68fc26\" class=\"colab-df-container\">\n",
              "    <div>\n",
              "<style scoped>\n",
              "    .dataframe tbody tr th:only-of-type {\n",
              "        vertical-align: middle;\n",
              "    }\n",
              "\n",
              "    .dataframe tbody tr th {\n",
              "        vertical-align: top;\n",
              "    }\n",
              "\n",
              "    .dataframe thead th {\n",
              "        text-align: right;\n",
              "    }\n",
              "</style>\n",
              "<table border=\"1\" class=\"dataframe\">\n",
              "  <thead>\n",
              "    <tr style=\"text-align: right;\">\n",
              "      <th></th>\n",
              "      <th>Glucose</th>\n",
              "      <th>BloodPressure</th>\n",
              "      <th>SkinThickness</th>\n",
              "      <th>Insulin</th>\n",
              "      <th>BMI</th>\n",
              "      <th>DiabetesPedigreeFunction</th>\n",
              "      <th>Age</th>\n",
              "      <th>Outcome</th>\n",
              "    </tr>\n",
              "  </thead>\n",
              "  <tbody>\n",
              "    <tr>\n",
              "      <th>count</th>\n",
              "      <td>768.000000</td>\n",
              "      <td>768.000000</td>\n",
              "      <td>768.000000</td>\n",
              "      <td>768.000000</td>\n",
              "      <td>768.000000</td>\n",
              "      <td>768.000000</td>\n",
              "      <td>768.000000</td>\n",
              "      <td>768.000000</td>\n",
              "    </tr>\n",
              "    <tr>\n",
              "      <th>mean</th>\n",
              "      <td>120.894531</td>\n",
              "      <td>69.105469</td>\n",
              "      <td>20.536458</td>\n",
              "      <td>79.799479</td>\n",
              "      <td>31.992578</td>\n",
              "      <td>0.471876</td>\n",
              "      <td>33.240885</td>\n",
              "      <td>0.348958</td>\n",
              "    </tr>\n",
              "    <tr>\n",
              "      <th>std</th>\n",
              "      <td>31.972618</td>\n",
              "      <td>19.355807</td>\n",
              "      <td>15.952218</td>\n",
              "      <td>115.244002</td>\n",
              "      <td>7.884160</td>\n",
              "      <td>0.331329</td>\n",
              "      <td>11.760232</td>\n",
              "      <td>0.476951</td>\n",
              "    </tr>\n",
              "    <tr>\n",
              "      <th>min</th>\n",
              "      <td>0.000000</td>\n",
              "      <td>0.000000</td>\n",
              "      <td>0.000000</td>\n",
              "      <td>0.000000</td>\n",
              "      <td>0.000000</td>\n",
              "      <td>0.078000</td>\n",
              "      <td>21.000000</td>\n",
              "      <td>0.000000</td>\n",
              "    </tr>\n",
              "    <tr>\n",
              "      <th>25%</th>\n",
              "      <td>99.000000</td>\n",
              "      <td>62.000000</td>\n",
              "      <td>0.000000</td>\n",
              "      <td>0.000000</td>\n",
              "      <td>27.300000</td>\n",
              "      <td>0.243750</td>\n",
              "      <td>24.000000</td>\n",
              "      <td>0.000000</td>\n",
              "    </tr>\n",
              "    <tr>\n",
              "      <th>50%</th>\n",
              "      <td>117.000000</td>\n",
              "      <td>72.000000</td>\n",
              "      <td>23.000000</td>\n",
              "      <td>30.500000</td>\n",
              "      <td>32.000000</td>\n",
              "      <td>0.372500</td>\n",
              "      <td>29.000000</td>\n",
              "      <td>0.000000</td>\n",
              "    </tr>\n",
              "    <tr>\n",
              "      <th>75%</th>\n",
              "      <td>140.250000</td>\n",
              "      <td>80.000000</td>\n",
              "      <td>32.000000</td>\n",
              "      <td>127.250000</td>\n",
              "      <td>36.600000</td>\n",
              "      <td>0.626250</td>\n",
              "      <td>41.000000</td>\n",
              "      <td>1.000000</td>\n",
              "    </tr>\n",
              "    <tr>\n",
              "      <th>max</th>\n",
              "      <td>199.000000</td>\n",
              "      <td>122.000000</td>\n",
              "      <td>99.000000</td>\n",
              "      <td>846.000000</td>\n",
              "      <td>67.100000</td>\n",
              "      <td>2.420000</td>\n",
              "      <td>81.000000</td>\n",
              "      <td>1.000000</td>\n",
              "    </tr>\n",
              "  </tbody>\n",
              "</table>\n",
              "</div>\n",
              "    <div class=\"colab-df-buttons\">\n",
              "\n",
              "  <div class=\"colab-df-container\">\n",
              "    <button class=\"colab-df-convert\" onclick=\"convertToInteractive('df-0c6d755f-a966-4134-9c18-237b0e68fc26')\"\n",
              "            title=\"Convert this dataframe to an interactive table.\"\n",
              "            style=\"display:none;\">\n",
              "\n",
              "  <svg xmlns=\"http://www.w3.org/2000/svg\" height=\"24px\" viewBox=\"0 -960 960 960\">\n",
              "    <path d=\"M120-120v-720h720v720H120Zm60-500h600v-160H180v160Zm220 220h160v-160H400v160Zm0 220h160v-160H400v160ZM180-400h160v-160H180v160Zm440 0h160v-160H620v160ZM180-180h160v-160H180v160Zm440 0h160v-160H620v160Z\"/>\n",
              "  </svg>\n",
              "    </button>\n",
              "\n",
              "  <style>\n",
              "    .colab-df-container {\n",
              "      display:flex;\n",
              "      gap: 12px;\n",
              "    }\n",
              "\n",
              "    .colab-df-convert {\n",
              "      background-color: #E8F0FE;\n",
              "      border: none;\n",
              "      border-radius: 50%;\n",
              "      cursor: pointer;\n",
              "      display: none;\n",
              "      fill: #1967D2;\n",
              "      height: 32px;\n",
              "      padding: 0 0 0 0;\n",
              "      width: 32px;\n",
              "    }\n",
              "\n",
              "    .colab-df-convert:hover {\n",
              "      background-color: #E2EBFA;\n",
              "      box-shadow: 0px 1px 2px rgba(60, 64, 67, 0.3), 0px 1px 3px 1px rgba(60, 64, 67, 0.15);\n",
              "      fill: #174EA6;\n",
              "    }\n",
              "\n",
              "    .colab-df-buttons div {\n",
              "      margin-bottom: 4px;\n",
              "    }\n",
              "\n",
              "    [theme=dark] .colab-df-convert {\n",
              "      background-color: #3B4455;\n",
              "      fill: #D2E3FC;\n",
              "    }\n",
              "\n",
              "    [theme=dark] .colab-df-convert:hover {\n",
              "      background-color: #434B5C;\n",
              "      box-shadow: 0px 1px 3px 1px rgba(0, 0, 0, 0.15);\n",
              "      filter: drop-shadow(0px 1px 2px rgba(0, 0, 0, 0.3));\n",
              "      fill: #FFFFFF;\n",
              "    }\n",
              "  </style>\n",
              "\n",
              "    <script>\n",
              "      const buttonEl =\n",
              "        document.querySelector('#df-0c6d755f-a966-4134-9c18-237b0e68fc26 button.colab-df-convert');\n",
              "      buttonEl.style.display =\n",
              "        google.colab.kernel.accessAllowed ? 'block' : 'none';\n",
              "\n",
              "      async function convertToInteractive(key) {\n",
              "        const element = document.querySelector('#df-0c6d755f-a966-4134-9c18-237b0e68fc26');\n",
              "        const dataTable =\n",
              "          await google.colab.kernel.invokeFunction('convertToInteractive',\n",
              "                                                    [key], {});\n",
              "        if (!dataTable) return;\n",
              "\n",
              "        const docLinkHtml = 'Like what you see? Visit the ' +\n",
              "          '<a target=\"_blank\" href=https://colab.research.google.com/notebooks/data_table.ipynb>data table notebook</a>'\n",
              "          + ' to learn more about interactive tables.';\n",
              "        element.innerHTML = '';\n",
              "        dataTable['output_type'] = 'display_data';\n",
              "        await google.colab.output.renderOutput(dataTable, element);\n",
              "        const docLink = document.createElement('div');\n",
              "        docLink.innerHTML = docLinkHtml;\n",
              "        element.appendChild(docLink);\n",
              "      }\n",
              "    </script>\n",
              "  </div>\n",
              "\n",
              "\n",
              "<div id=\"df-47f12255-d8bc-4adc-9bef-6d97ec3d28be\">\n",
              "  <button class=\"colab-df-quickchart\" onclick=\"quickchart('df-47f12255-d8bc-4adc-9bef-6d97ec3d28be')\"\n",
              "            title=\"Suggest charts.\"\n",
              "            style=\"display:none;\">\n",
              "\n",
              "<svg xmlns=\"http://www.w3.org/2000/svg\" height=\"24px\"viewBox=\"0 0 24 24\"\n",
              "     width=\"24px\">\n",
              "    <g>\n",
              "        <path d=\"M19 3H5c-1.1 0-2 .9-2 2v14c0 1.1.9 2 2 2h14c1.1 0 2-.9 2-2V5c0-1.1-.9-2-2-2zM9 17H7v-7h2v7zm4 0h-2V7h2v10zm4 0h-2v-4h2v4z\"/>\n",
              "    </g>\n",
              "</svg>\n",
              "  </button>\n",
              "\n",
              "<style>\n",
              "  .colab-df-quickchart {\n",
              "      --bg-color: #E8F0FE;\n",
              "      --fill-color: #1967D2;\n",
              "      --hover-bg-color: #E2EBFA;\n",
              "      --hover-fill-color: #174EA6;\n",
              "      --disabled-fill-color: #AAA;\n",
              "      --disabled-bg-color: #DDD;\n",
              "  }\n",
              "\n",
              "  [theme=dark] .colab-df-quickchart {\n",
              "      --bg-color: #3B4455;\n",
              "      --fill-color: #D2E3FC;\n",
              "      --hover-bg-color: #434B5C;\n",
              "      --hover-fill-color: #FFFFFF;\n",
              "      --disabled-bg-color: #3B4455;\n",
              "      --disabled-fill-color: #666;\n",
              "  }\n",
              "\n",
              "  .colab-df-quickchart {\n",
              "    background-color: var(--bg-color);\n",
              "    border: none;\n",
              "    border-radius: 50%;\n",
              "    cursor: pointer;\n",
              "    display: none;\n",
              "    fill: var(--fill-color);\n",
              "    height: 32px;\n",
              "    padding: 0;\n",
              "    width: 32px;\n",
              "  }\n",
              "\n",
              "  .colab-df-quickchart:hover {\n",
              "    background-color: var(--hover-bg-color);\n",
              "    box-shadow: 0 1px 2px rgba(60, 64, 67, 0.3), 0 1px 3px 1px rgba(60, 64, 67, 0.15);\n",
              "    fill: var(--button-hover-fill-color);\n",
              "  }\n",
              "\n",
              "  .colab-df-quickchart-complete:disabled,\n",
              "  .colab-df-quickchart-complete:disabled:hover {\n",
              "    background-color: var(--disabled-bg-color);\n",
              "    fill: var(--disabled-fill-color);\n",
              "    box-shadow: none;\n",
              "  }\n",
              "\n",
              "  .colab-df-spinner {\n",
              "    border: 2px solid var(--fill-color);\n",
              "    border-color: transparent;\n",
              "    border-bottom-color: var(--fill-color);\n",
              "    animation:\n",
              "      spin 1s steps(1) infinite;\n",
              "  }\n",
              "\n",
              "  @keyframes spin {\n",
              "    0% {\n",
              "      border-color: transparent;\n",
              "      border-bottom-color: var(--fill-color);\n",
              "      border-left-color: var(--fill-color);\n",
              "    }\n",
              "    20% {\n",
              "      border-color: transparent;\n",
              "      border-left-color: var(--fill-color);\n",
              "      border-top-color: var(--fill-color);\n",
              "    }\n",
              "    30% {\n",
              "      border-color: transparent;\n",
              "      border-left-color: var(--fill-color);\n",
              "      border-top-color: var(--fill-color);\n",
              "      border-right-color: var(--fill-color);\n",
              "    }\n",
              "    40% {\n",
              "      border-color: transparent;\n",
              "      border-right-color: var(--fill-color);\n",
              "      border-top-color: var(--fill-color);\n",
              "    }\n",
              "    60% {\n",
              "      border-color: transparent;\n",
              "      border-right-color: var(--fill-color);\n",
              "    }\n",
              "    80% {\n",
              "      border-color: transparent;\n",
              "      border-right-color: var(--fill-color);\n",
              "      border-bottom-color: var(--fill-color);\n",
              "    }\n",
              "    90% {\n",
              "      border-color: transparent;\n",
              "      border-bottom-color: var(--fill-color);\n",
              "    }\n",
              "  }\n",
              "</style>\n",
              "\n",
              "  <script>\n",
              "    async function quickchart(key) {\n",
              "      const quickchartButtonEl =\n",
              "        document.querySelector('#' + key + ' button');\n",
              "      quickchartButtonEl.disabled = true;  // To prevent multiple clicks.\n",
              "      quickchartButtonEl.classList.add('colab-df-spinner');\n",
              "      try {\n",
              "        const charts = await google.colab.kernel.invokeFunction(\n",
              "            'suggestCharts', [key], {});\n",
              "      } catch (error) {\n",
              "        console.error('Error during call to suggestCharts:', error);\n",
              "      }\n",
              "      quickchartButtonEl.classList.remove('colab-df-spinner');\n",
              "      quickchartButtonEl.classList.add('colab-df-quickchart-complete');\n",
              "    }\n",
              "    (() => {\n",
              "      let quickchartButtonEl =\n",
              "        document.querySelector('#df-47f12255-d8bc-4adc-9bef-6d97ec3d28be button');\n",
              "      quickchartButtonEl.style.display =\n",
              "        google.colab.kernel.accessAllowed ? 'block' : 'none';\n",
              "    })();\n",
              "  </script>\n",
              "</div>\n",
              "    </div>\n",
              "  </div>\n"
            ]
          },
          "metadata": {},
          "execution_count": 54
        }
      ]
    },
    {
      "cell_type": "code",
      "source": [
        "data.head()"
      ],
      "metadata": {
        "colab": {
          "base_uri": "https://localhost:8080/",
          "height": 206
        },
        "id": "KNbNYlPImMPh",
        "outputId": "2e4850d6-85e1-491b-85f9-7d96017cd767"
      },
      "execution_count": 55,
      "outputs": [
        {
          "output_type": "execute_result",
          "data": {
            "text/plain": [
              "   Glucose  BloodPressure  SkinThickness  Insulin   BMI  \\\n",
              "0      148             72             35        0  33.6   \n",
              "1       85             66             29        0  26.6   \n",
              "2      183             64              0        0  23.3   \n",
              "3       89             66             23       94  28.1   \n",
              "4      137             40             35      168  43.1   \n",
              "\n",
              "   DiabetesPedigreeFunction  Age  Outcome  \n",
              "0                     0.627   50        1  \n",
              "1                     0.351   31        0  \n",
              "2                     0.672   32        1  \n",
              "3                     0.167   21        0  \n",
              "4                     2.288   33        1  "
            ],
            "text/html": [
              "\n",
              "  <div id=\"df-576a4a95-a144-4167-802d-122224b6c9e5\" class=\"colab-df-container\">\n",
              "    <div>\n",
              "<style scoped>\n",
              "    .dataframe tbody tr th:only-of-type {\n",
              "        vertical-align: middle;\n",
              "    }\n",
              "\n",
              "    .dataframe tbody tr th {\n",
              "        vertical-align: top;\n",
              "    }\n",
              "\n",
              "    .dataframe thead th {\n",
              "        text-align: right;\n",
              "    }\n",
              "</style>\n",
              "<table border=\"1\" class=\"dataframe\">\n",
              "  <thead>\n",
              "    <tr style=\"text-align: right;\">\n",
              "      <th></th>\n",
              "      <th>Glucose</th>\n",
              "      <th>BloodPressure</th>\n",
              "      <th>SkinThickness</th>\n",
              "      <th>Insulin</th>\n",
              "      <th>BMI</th>\n",
              "      <th>DiabetesPedigreeFunction</th>\n",
              "      <th>Age</th>\n",
              "      <th>Outcome</th>\n",
              "    </tr>\n",
              "  </thead>\n",
              "  <tbody>\n",
              "    <tr>\n",
              "      <th>0</th>\n",
              "      <td>148</td>\n",
              "      <td>72</td>\n",
              "      <td>35</td>\n",
              "      <td>0</td>\n",
              "      <td>33.6</td>\n",
              "      <td>0.627</td>\n",
              "      <td>50</td>\n",
              "      <td>1</td>\n",
              "    </tr>\n",
              "    <tr>\n",
              "      <th>1</th>\n",
              "      <td>85</td>\n",
              "      <td>66</td>\n",
              "      <td>29</td>\n",
              "      <td>0</td>\n",
              "      <td>26.6</td>\n",
              "      <td>0.351</td>\n",
              "      <td>31</td>\n",
              "      <td>0</td>\n",
              "    </tr>\n",
              "    <tr>\n",
              "      <th>2</th>\n",
              "      <td>183</td>\n",
              "      <td>64</td>\n",
              "      <td>0</td>\n",
              "      <td>0</td>\n",
              "      <td>23.3</td>\n",
              "      <td>0.672</td>\n",
              "      <td>32</td>\n",
              "      <td>1</td>\n",
              "    </tr>\n",
              "    <tr>\n",
              "      <th>3</th>\n",
              "      <td>89</td>\n",
              "      <td>66</td>\n",
              "      <td>23</td>\n",
              "      <td>94</td>\n",
              "      <td>28.1</td>\n",
              "      <td>0.167</td>\n",
              "      <td>21</td>\n",
              "      <td>0</td>\n",
              "    </tr>\n",
              "    <tr>\n",
              "      <th>4</th>\n",
              "      <td>137</td>\n",
              "      <td>40</td>\n",
              "      <td>35</td>\n",
              "      <td>168</td>\n",
              "      <td>43.1</td>\n",
              "      <td>2.288</td>\n",
              "      <td>33</td>\n",
              "      <td>1</td>\n",
              "    </tr>\n",
              "  </tbody>\n",
              "</table>\n",
              "</div>\n",
              "    <div class=\"colab-df-buttons\">\n",
              "\n",
              "  <div class=\"colab-df-container\">\n",
              "    <button class=\"colab-df-convert\" onclick=\"convertToInteractive('df-576a4a95-a144-4167-802d-122224b6c9e5')\"\n",
              "            title=\"Convert this dataframe to an interactive table.\"\n",
              "            style=\"display:none;\">\n",
              "\n",
              "  <svg xmlns=\"http://www.w3.org/2000/svg\" height=\"24px\" viewBox=\"0 -960 960 960\">\n",
              "    <path d=\"M120-120v-720h720v720H120Zm60-500h600v-160H180v160Zm220 220h160v-160H400v160Zm0 220h160v-160H400v160ZM180-400h160v-160H180v160Zm440 0h160v-160H620v160ZM180-180h160v-160H180v160Zm440 0h160v-160H620v160Z\"/>\n",
              "  </svg>\n",
              "    </button>\n",
              "\n",
              "  <style>\n",
              "    .colab-df-container {\n",
              "      display:flex;\n",
              "      gap: 12px;\n",
              "    }\n",
              "\n",
              "    .colab-df-convert {\n",
              "      background-color: #E8F0FE;\n",
              "      border: none;\n",
              "      border-radius: 50%;\n",
              "      cursor: pointer;\n",
              "      display: none;\n",
              "      fill: #1967D2;\n",
              "      height: 32px;\n",
              "      padding: 0 0 0 0;\n",
              "      width: 32px;\n",
              "    }\n",
              "\n",
              "    .colab-df-convert:hover {\n",
              "      background-color: #E2EBFA;\n",
              "      box-shadow: 0px 1px 2px rgba(60, 64, 67, 0.3), 0px 1px 3px 1px rgba(60, 64, 67, 0.15);\n",
              "      fill: #174EA6;\n",
              "    }\n",
              "\n",
              "    .colab-df-buttons div {\n",
              "      margin-bottom: 4px;\n",
              "    }\n",
              "\n",
              "    [theme=dark] .colab-df-convert {\n",
              "      background-color: #3B4455;\n",
              "      fill: #D2E3FC;\n",
              "    }\n",
              "\n",
              "    [theme=dark] .colab-df-convert:hover {\n",
              "      background-color: #434B5C;\n",
              "      box-shadow: 0px 1px 3px 1px rgba(0, 0, 0, 0.15);\n",
              "      filter: drop-shadow(0px 1px 2px rgba(0, 0, 0, 0.3));\n",
              "      fill: #FFFFFF;\n",
              "    }\n",
              "  </style>\n",
              "\n",
              "    <script>\n",
              "      const buttonEl =\n",
              "        document.querySelector('#df-576a4a95-a144-4167-802d-122224b6c9e5 button.colab-df-convert');\n",
              "      buttonEl.style.display =\n",
              "        google.colab.kernel.accessAllowed ? 'block' : 'none';\n",
              "\n",
              "      async function convertToInteractive(key) {\n",
              "        const element = document.querySelector('#df-576a4a95-a144-4167-802d-122224b6c9e5');\n",
              "        const dataTable =\n",
              "          await google.colab.kernel.invokeFunction('convertToInteractive',\n",
              "                                                    [key], {});\n",
              "        if (!dataTable) return;\n",
              "\n",
              "        const docLinkHtml = 'Like what you see? Visit the ' +\n",
              "          '<a target=\"_blank\" href=https://colab.research.google.com/notebooks/data_table.ipynb>data table notebook</a>'\n",
              "          + ' to learn more about interactive tables.';\n",
              "        element.innerHTML = '';\n",
              "        dataTable['output_type'] = 'display_data';\n",
              "        await google.colab.output.renderOutput(dataTable, element);\n",
              "        const docLink = document.createElement('div');\n",
              "        docLink.innerHTML = docLinkHtml;\n",
              "        element.appendChild(docLink);\n",
              "      }\n",
              "    </script>\n",
              "  </div>\n",
              "\n",
              "\n",
              "<div id=\"df-c56aadea-91a0-42b6-ba07-d15b27cde971\">\n",
              "  <button class=\"colab-df-quickchart\" onclick=\"quickchart('df-c56aadea-91a0-42b6-ba07-d15b27cde971')\"\n",
              "            title=\"Suggest charts.\"\n",
              "            style=\"display:none;\">\n",
              "\n",
              "<svg xmlns=\"http://www.w3.org/2000/svg\" height=\"24px\"viewBox=\"0 0 24 24\"\n",
              "     width=\"24px\">\n",
              "    <g>\n",
              "        <path d=\"M19 3H5c-1.1 0-2 .9-2 2v14c0 1.1.9 2 2 2h14c1.1 0 2-.9 2-2V5c0-1.1-.9-2-2-2zM9 17H7v-7h2v7zm4 0h-2V7h2v10zm4 0h-2v-4h2v4z\"/>\n",
              "    </g>\n",
              "</svg>\n",
              "  </button>\n",
              "\n",
              "<style>\n",
              "  .colab-df-quickchart {\n",
              "      --bg-color: #E8F0FE;\n",
              "      --fill-color: #1967D2;\n",
              "      --hover-bg-color: #E2EBFA;\n",
              "      --hover-fill-color: #174EA6;\n",
              "      --disabled-fill-color: #AAA;\n",
              "      --disabled-bg-color: #DDD;\n",
              "  }\n",
              "\n",
              "  [theme=dark] .colab-df-quickchart {\n",
              "      --bg-color: #3B4455;\n",
              "      --fill-color: #D2E3FC;\n",
              "      --hover-bg-color: #434B5C;\n",
              "      --hover-fill-color: #FFFFFF;\n",
              "      --disabled-bg-color: #3B4455;\n",
              "      --disabled-fill-color: #666;\n",
              "  }\n",
              "\n",
              "  .colab-df-quickchart {\n",
              "    background-color: var(--bg-color);\n",
              "    border: none;\n",
              "    border-radius: 50%;\n",
              "    cursor: pointer;\n",
              "    display: none;\n",
              "    fill: var(--fill-color);\n",
              "    height: 32px;\n",
              "    padding: 0;\n",
              "    width: 32px;\n",
              "  }\n",
              "\n",
              "  .colab-df-quickchart:hover {\n",
              "    background-color: var(--hover-bg-color);\n",
              "    box-shadow: 0 1px 2px rgba(60, 64, 67, 0.3), 0 1px 3px 1px rgba(60, 64, 67, 0.15);\n",
              "    fill: var(--button-hover-fill-color);\n",
              "  }\n",
              "\n",
              "  .colab-df-quickchart-complete:disabled,\n",
              "  .colab-df-quickchart-complete:disabled:hover {\n",
              "    background-color: var(--disabled-bg-color);\n",
              "    fill: var(--disabled-fill-color);\n",
              "    box-shadow: none;\n",
              "  }\n",
              "\n",
              "  .colab-df-spinner {\n",
              "    border: 2px solid var(--fill-color);\n",
              "    border-color: transparent;\n",
              "    border-bottom-color: var(--fill-color);\n",
              "    animation:\n",
              "      spin 1s steps(1) infinite;\n",
              "  }\n",
              "\n",
              "  @keyframes spin {\n",
              "    0% {\n",
              "      border-color: transparent;\n",
              "      border-bottom-color: var(--fill-color);\n",
              "      border-left-color: var(--fill-color);\n",
              "    }\n",
              "    20% {\n",
              "      border-color: transparent;\n",
              "      border-left-color: var(--fill-color);\n",
              "      border-top-color: var(--fill-color);\n",
              "    }\n",
              "    30% {\n",
              "      border-color: transparent;\n",
              "      border-left-color: var(--fill-color);\n",
              "      border-top-color: var(--fill-color);\n",
              "      border-right-color: var(--fill-color);\n",
              "    }\n",
              "    40% {\n",
              "      border-color: transparent;\n",
              "      border-right-color: var(--fill-color);\n",
              "      border-top-color: var(--fill-color);\n",
              "    }\n",
              "    60% {\n",
              "      border-color: transparent;\n",
              "      border-right-color: var(--fill-color);\n",
              "    }\n",
              "    80% {\n",
              "      border-color: transparent;\n",
              "      border-right-color: var(--fill-color);\n",
              "      border-bottom-color: var(--fill-color);\n",
              "    }\n",
              "    90% {\n",
              "      border-color: transparent;\n",
              "      border-bottom-color: var(--fill-color);\n",
              "    }\n",
              "  }\n",
              "</style>\n",
              "\n",
              "  <script>\n",
              "    async function quickchart(key) {\n",
              "      const quickchartButtonEl =\n",
              "        document.querySelector('#' + key + ' button');\n",
              "      quickchartButtonEl.disabled = true;  // To prevent multiple clicks.\n",
              "      quickchartButtonEl.classList.add('colab-df-spinner');\n",
              "      try {\n",
              "        const charts = await google.colab.kernel.invokeFunction(\n",
              "            'suggestCharts', [key], {});\n",
              "      } catch (error) {\n",
              "        console.error('Error during call to suggestCharts:', error);\n",
              "      }\n",
              "      quickchartButtonEl.classList.remove('colab-df-spinner');\n",
              "      quickchartButtonEl.classList.add('colab-df-quickchart-complete');\n",
              "    }\n",
              "    (() => {\n",
              "      let quickchartButtonEl =\n",
              "        document.querySelector('#df-c56aadea-91a0-42b6-ba07-d15b27cde971 button');\n",
              "      quickchartButtonEl.style.display =\n",
              "        google.colab.kernel.accessAllowed ? 'block' : 'none';\n",
              "    })();\n",
              "  </script>\n",
              "</div>\n",
              "    </div>\n",
              "  </div>\n"
            ]
          },
          "metadata": {},
          "execution_count": 55
        }
      ]
    },
    {
      "cell_type": "code",
      "source": [
        "#dropping unneeded columns.\n",
        "import pandas as pd"
      ],
      "metadata": {
        "id": "WEDj4bCojvrx"
      },
      "execution_count": 56,
      "outputs": []
    },
    {
      "cell_type": "code",
      "source": [
        "df = pd.read_csv('/content/diabetes1_cleaned_3.csv')\n",
        "df = df.drop(columns=['DiabetesPedigreeFunction'])"
      ],
      "metadata": {
        "id": "jzgWP4Boj4ef"
      },
      "execution_count": 57,
      "outputs": []
    },
    {
      "cell_type": "code",
      "source": [
        "print(df.columns)"
      ],
      "metadata": {
        "colab": {
          "base_uri": "https://localhost:8080/"
        },
        "id": "vAqWgRpwj9pW",
        "outputId": "b9ab0812-be3b-431c-ce2e-3152e980fbae"
      },
      "execution_count": 58,
      "outputs": [
        {
          "output_type": "stream",
          "name": "stdout",
          "text": [
            "Index(['Glucose', 'BloodPressure', 'SkinThickness', 'Insulin', 'BMI', 'Age',\n",
            "       'Outcome'],\n",
            "      dtype='object')\n"
          ]
        }
      ]
    },
    {
      "cell_type": "code",
      "source": [
        "#renaming columns\n",
        "new_column_names = {\n",
        "    'Glucose': 'BloodGlucoseLevel',\n",
        "    'BloodPressure': 'BP',\n",
        "    'SkinThickness': 'Skin Thickness',\n",
        "    'Insulin': 'InsulinLevel',\n",
        "    'BMI': 'BodyMassIndex',\n",
        "    'Age': 'Age in years',\n",
        "    'Outcome': 'DiabetesOutcome'\n",
        "}\n",
        "\n",
        "df.rename(columns=new_column_names, inplace=True)"
      ],
      "metadata": {
        "id": "ETndmq7r0U7n"
      },
      "execution_count": 59,
      "outputs": []
    },
    {
      "cell_type": "code",
      "source": [
        "new_column_names = df.columns\n",
        "print(new_column_names)"
      ],
      "metadata": {
        "colab": {
          "base_uri": "https://localhost:8080/"
        },
        "id": "vwBNAS5m0ep-",
        "outputId": "7d5f36b9-2577-4c8b-ed41-bfa05f1934b5"
      },
      "execution_count": 60,
      "outputs": [
        {
          "output_type": "stream",
          "name": "stdout",
          "text": [
            "Index(['BloodGlucoseLevel', 'BP', 'Skin Thickness', 'InsulinLevel',\n",
            "       'BodyMassIndex', 'Age in years', 'DiabetesOutcome'],\n",
            "      dtype='object')\n"
          ]
        }
      ]
    },
    {
      "cell_type": "code",
      "source": [
        "#transforming data types(int) to (float)\n",
        "df['BloodGlucoseLevel'] = df['BloodGlucoseLevel'].astype(float)"
      ],
      "metadata": {
        "id": "U2mu76-7t6UM"
      },
      "execution_count": 61,
      "outputs": []
    },
    {
      "cell_type": "code",
      "source": [
        "print(df.dtypes)"
      ],
      "metadata": {
        "colab": {
          "base_uri": "https://localhost:8080/"
        },
        "id": "5OtlPB7DuIK8",
        "outputId": "dc6ff285-f983-4edd-b166-4c3c12e2a600"
      },
      "execution_count": 62,
      "outputs": [
        {
          "output_type": "stream",
          "name": "stdout",
          "text": [
            "BloodGlucoseLevel    float64\n",
            "BP                     int64\n",
            "Skin Thickness         int64\n",
            "InsulinLevel           int64\n",
            "BodyMassIndex        float64\n",
            "Age in years           int64\n",
            "DiabetesOutcome        int64\n",
            "dtype: object\n"
          ]
        }
      ]
    },
    {
      "cell_type": "code",
      "source": [
        "#dealing with NULL or infinite values (either remove them or replace them with something meaningful),\n",
        "null_values = df.isnull().values.any()\n",
        "if null_values:\n",
        "    print(\"Null values are present in the DataFrame.\")\n",
        "else:\n",
        "    print(\"No null values found in the DataFrame.\")"
      ],
      "metadata": {
        "colab": {
          "base_uri": "https://localhost:8080/"
        },
        "id": "P-toMKcGD4ee",
        "outputId": "9e1d6280-036e-46f0-f7a6-83fd1c8ad468"
      },
      "execution_count": 63,
      "outputs": [
        {
          "output_type": "stream",
          "name": "stdout",
          "text": [
            "No null values found in the DataFrame.\n"
          ]
        }
      ]
    },
    {
      "cell_type": "code",
      "source": [
        "#dealing with NULL or infinite values (either remove them or replace them with something meaningful)\n",
        "mean_insulin = df['InsulinLevel'].mean()\n",
        "df['InsulinLevel'].replace(0, mean_insulin, inplace=True)"
      ],
      "metadata": {
        "id": "OmcC3hnCv0fH"
      },
      "execution_count": 64,
      "outputs": []
    },
    {
      "cell_type": "code",
      "source": [
        "print(df)"
      ],
      "metadata": {
        "colab": {
          "base_uri": "https://localhost:8080/"
        },
        "id": "c82uLZc-v6-_",
        "outputId": "286826a5-8203-4cf0-df77-200b25862fdd"
      },
      "execution_count": 65,
      "outputs": [
        {
          "output_type": "stream",
          "name": "stdout",
          "text": [
            "     BloodGlucoseLevel  BP  Skin Thickness  InsulinLevel  BodyMassIndex  \\\n",
            "0                148.0  72              35     79.799479           33.6   \n",
            "1                 85.0  66              29     79.799479           26.6   \n",
            "2                183.0  64               0     79.799479           23.3   \n",
            "3                 89.0  66              23     94.000000           28.1   \n",
            "4                137.0  40              35    168.000000           43.1   \n",
            "..                 ...  ..             ...           ...            ...   \n",
            "763              101.0  76              48    180.000000           32.9   \n",
            "764              122.0  70              27     79.799479           36.8   \n",
            "765              121.0  72              23    112.000000           26.2   \n",
            "766              126.0  60               0     79.799479           30.1   \n",
            "767               93.0  70              31     79.799479           30.4   \n",
            "\n",
            "     Age in years  DiabetesOutcome  \n",
            "0              50                1  \n",
            "1              31                0  \n",
            "2              32                1  \n",
            "3              21                0  \n",
            "4              33                1  \n",
            "..            ...              ...  \n",
            "763            63                0  \n",
            "764            27                0  \n",
            "765            30                0  \n",
            "766            47                1  \n",
            "767            23                0  \n",
            "\n",
            "[768 rows x 7 columns]\n"
          ]
        }
      ]
    },
    {
      "cell_type": "code",
      "source": [
        "column_names = df.columns\n",
        "print(column_names)\n"
      ],
      "metadata": {
        "colab": {
          "base_uri": "https://localhost:8080/"
        },
        "id": "RO4MYIkCwpRc",
        "outputId": "8050d03b-cf1a-4c38-c5fb-f400234e21c1"
      },
      "execution_count": 66,
      "outputs": [
        {
          "output_type": "stream",
          "name": "stdout",
          "text": [
            "Index(['BloodGlucoseLevel', 'BP', 'Skin Thickness', 'InsulinLevel',\n",
            "       'BodyMassIndex', 'Age in years', 'DiabetesOutcome'],\n",
            "      dtype='object')\n"
          ]
        }
      ]
    },
    {
      "cell_type": "code",
      "source": [
        "#deal with outliers (as appropriate)\n",
        "import seaborn as sns\n",
        "import matplotlib.pyplot as plt\n",
        "\n",
        "sns.boxplot(x=df['BloodGlucoseLevel'])\n",
        "plt.xlabel('Blood Glucose Level')\n",
        "plt.title('Box Plot for Blood Glucose Level')\n",
        "plt.show()"
      ],
      "metadata": {
        "colab": {
          "base_uri": "https://localhost:8080/",
          "height": 472
        },
        "id": "k2OF_hXz4KwM",
        "outputId": "c400ca64-307c-4596-db0f-668f07c34c22"
      },
      "execution_count": 67,
      "outputs": [
        {
          "output_type": "display_data",
          "data": {
            "text/plain": [
              "<Figure size 640x480 with 1 Axes>"
            ],
            "image/png": "[encoded data removed]"
          },
          "metadata": {}
        }
      ]
    },
    {
      "cell_type": "code",
      "source": [
        "import numpy as np\n",
        "# Calculate the Z-scores for the 'BloodGlucoseLevel' column\n",
        "z_scores = np.abs((df['BloodGlucoseLevel'] - df['BloodGlucoseLevel'].mean()) / df['BloodGlucoseLevel'].std())\n",
        "# Define a threshold for identifying outliers\n",
        "outlier_threshold = 3"
      ],
      "metadata": {
        "id": "69_-zFJR5FNn"
      },
      "execution_count": 68,
      "outputs": []
    },
    {
      "cell_type": "code",
      "source": [
        "df_no_outliers = df[z_scores <= outlier_threshold]"
      ],
      "metadata": {
        "id": "AOtxDKUe5WVM"
      },
      "execution_count": 69,
      "outputs": []
    },
    {
      "cell_type": "code",
      "source": [
        "print(df_no_outliers)"
      ],
      "metadata": {
        "colab": {
          "base_uri": "https://localhost:8080/"
        },
        "id": "dxm60q5z5YCP",
        "outputId": "f6703ff3-f4ba-42bb-fc45-549a24a1f253"
      },
      "execution_count": 70,
      "outputs": [
        {
          "output_type": "stream",
          "name": "stdout",
          "text": [
            "     BloodGlucoseLevel  BP  Skin Thickness  InsulinLevel  BodyMassIndex  \\\n",
            "0                148.0  72              35     79.799479           33.6   \n",
            "1                 85.0  66              29     79.799479           26.6   \n",
            "2                183.0  64               0     79.799479           23.3   \n",
            "3                 89.0  66              23     94.000000           28.1   \n",
            "4                137.0  40              35    168.000000           43.1   \n",
            "..                 ...  ..             ...           ...            ...   \n",
            "763              101.0  76              48    180.000000           32.9   \n",
            "764              122.0  70              27     79.799479           36.8   \n",
            "765              121.0  72              23    112.000000           26.2   \n",
            "766              126.0  60               0     79.799479           30.1   \n",
            "767               93.0  70              31     79.799479           30.4   \n",
            "\n",
            "     Age in years  DiabetesOutcome  \n",
            "0              50                1  \n",
            "1              31                0  \n",
            "2              32                1  \n",
            "3              21                0  \n",
            "4              33                1  \n",
            "..            ...              ...  \n",
            "763            63                0  \n",
            "764            27                0  \n",
            "765            30                0  \n",
            "766            47                1  \n",
            "767            23                0  \n",
            "\n",
            "[763 rows x 7 columns]\n"
          ]
        }
      ]
    },
    {
      "cell_type": "code",
      "source": [
        "# bar graph to visualize the 'BloodGlucoseLevel' after removing outliers\n",
        "sns.boxplot(x=df_no_outliers['BloodGlucoseLevel'])\n",
        "plt.xlabel('Blood Glucose Level')\n",
        "plt.title('Box Plot for Blood Glucose Level (Outliers Removed)')\n",
        "plt.show()\n",
        "\n",
        "#  DataFrame without outliers\n",
        "print(df_no_outliers)"
      ],
      "metadata": {
        "colab": {
          "base_uri": "https://localhost:8080/",
          "height": 941
        },
        "id": "C-R32hGe6EJK",
        "outputId": "b687e7a9-1314-42e0-9340-e32b1cc36546"
      },
      "execution_count": 71,
      "outputs": [
        {
          "output_type": "display_data",
          "data": {
            "text/plain": [
              "<Figure size 640x480 with 1 Axes>"
            ],
            "image/png": "[encoded data removed]"
          },
          "metadata": {}
        },
        {
          "output_type": "stream",
          "name": "stdout",
          "text": [
            "     BloodGlucoseLevel  BP  Skin Thickness  InsulinLevel  BodyMassIndex  \\\n",
            "0                148.0  72              35     79.799479           33.6   \n",
            "1                 85.0  66              29     79.799479           26.6   \n",
            "2                183.0  64               0     79.799479           23.3   \n",
            "3                 89.0  66              23     94.000000           28.1   \n",
            "4                137.0  40              35    168.000000           43.1   \n",
            "..                 ...  ..             ...           ...            ...   \n",
            "763              101.0  76              48    180.000000           32.9   \n",
            "764              122.0  70              27     79.799479           36.8   \n",
            "765              121.0  72              23    112.000000           26.2   \n",
            "766              126.0  60               0     79.799479           30.1   \n",
            "767               93.0  70              31     79.799479           30.4   \n",
            "\n",
            "     Age in years  DiabetesOutcome  \n",
            "0              50                1  \n",
            "1              31                0  \n",
            "2              32                1  \n",
            "3              21                0  \n",
            "4              33                1  \n",
            "..            ...              ...  \n",
            "763            63                0  \n",
            "764            27                0  \n",
            "765            30                0  \n",
            "766            47                1  \n",
            "767            23                0  \n",
            "\n",
            "[763 rows x 7 columns]\n"
          ]
        }
      ]
    },
    {
      "cell_type": "code",
      "source": [
        "#deal with outliers (as appropriate)\n",
        "sns.boxplot(x=df['BodyMassIndex'])\n",
        "plt.xlabel('Body Mass Index (BMI)')\n",
        "plt.title('Box Plot for BMI')\n",
        "plt.show()"
      ],
      "metadata": {
        "colab": {
          "base_uri": "https://localhost:8080/",
          "height": 472
        },
        "id": "W8NrqaKB68Wa",
        "outputId": "29cbda14-67d7-4b41-d043-6a9b35e13f37"
      },
      "execution_count": 72,
      "outputs": [
        {
          "output_type": "display_data",
          "data": {
            "text/plain": [
              "<Figure size 640x480 with 1 Axes>"
            ],
            "image/png": "[encoded data removed]"
          },
          "metadata": {}
        }
      ]
    },
    {
      "cell_type": "code",
      "source": [
        "import numpy as np\n",
        "import seaborn as sns\n",
        "import matplotlib.pyplot as plt\n",
        "\n",
        "# Calculating Z-scores for 'BodyMassIndex'\n",
        "z_scores = np.abs((df['BodyMassIndex'] - df['BodyMassIndex'].mean()) / df['BodyMassIndex'].std())\n",
        "outlier_threshold = 2\n",
        "\n",
        "# Removing outliers from 'BodyMassIndex' and\n",
        "# creating a new DataFrame\n",
        "df_no_outliers = df[z_scores <= outlier_threshold]\n",
        "\n"
      ],
      "metadata": {
        "id": "VHPS7Znt7NMj"
      },
      "execution_count": 73,
      "outputs": []
    },
    {
      "cell_type": "code",
      "source": [
        "# Create a box plot to visualize the 'BodyMassIndex' after the removing  of outliers\n",
        "sns.boxplot(x=df_no_outliers['BodyMassIndex'])\n",
        "plt.xlabel('Body Mass Index (BMI)')\n",
        "plt.title('Box Plot for BMI (Outliers Removed)')\n",
        "plt.show()\n",
        "\n",
        "# DataFrame without outliers\n",
        "print(df_no_outliers)"
      ],
      "metadata": {
        "colab": {
          "base_uri": "https://localhost:8080/",
          "height": 941
        },
        "id": "llA8ygXy7TLt",
        "outputId": "e2e57d91-3444-4561-f610-c38f7241951e"
      },
      "execution_count": 74,
      "outputs": [
        {
          "output_type": "display_data",
          "data": {
            "text/plain": [
              "<Figure size 640x480 with 1 Axes>"
            ],
            "image/png": "[encoded data removed]"
          },
          "metadata": {}
        },
        {
          "output_type": "stream",
          "name": "stdout",
          "text": [
            "     BloodGlucoseLevel  BP  Skin Thickness  InsulinLevel  BodyMassIndex  \\\n",
            "0                148.0  72              35     79.799479           33.6   \n",
            "1                 85.0  66              29     79.799479           26.6   \n",
            "2                183.0  64               0     79.799479           23.3   \n",
            "3                 89.0  66              23     94.000000           28.1   \n",
            "4                137.0  40              35    168.000000           43.1   \n",
            "..                 ...  ..             ...           ...            ...   \n",
            "763              101.0  76              48    180.000000           32.9   \n",
            "764              122.0  70              27     79.799479           36.8   \n",
            "765              121.0  72              23    112.000000           26.2   \n",
            "766              126.0  60               0     79.799479           30.1   \n",
            "767               93.0  70              31     79.799479           30.4   \n",
            "\n",
            "     Age in years  DiabetesOutcome  \n",
            "0              50                1  \n",
            "1              31                0  \n",
            "2              32                1  \n",
            "3              21                0  \n",
            "4              33                1  \n",
            "..            ...              ...  \n",
            "763            63                0  \n",
            "764            27                0  \n",
            "765            30                0  \n",
            "766            47                1  \n",
            "767            23                0  \n",
            "\n",
            "[741 rows x 7 columns]\n"
          ]
        }
      ]
    },
    {
      "cell_type": "code",
      "source": [
        "import seaborn as sns\n",
        "import matplotlib.pyplot as plt\n",
        "\n",
        "# Create a box plot to visualize the 'BP' column\n",
        "sns.boxplot(x=df['BP'])\n",
        "plt.xlabel('Blood Pressure')\n",
        "plt.title('Box Plot for Blood Pressure (BP)')\n",
        "plt.show()\n"
      ],
      "metadata": {
        "colab": {
          "base_uri": "https://localhost:8080/",
          "height": 472
        },
        "id": "nJY_X5lM9-tp",
        "outputId": "a0dede14-9918-42be-f856-19f6a582ad3c"
      },
      "execution_count": 75,
      "outputs": [
        {
          "output_type": "display_data",
          "data": {
            "text/plain": [
              "<Figure size 640x480 with 1 Axes>"
            ],
            "image/png": "[encoded data removed]"
          },
          "metadata": {}
        }
      ]
    },
    {
      "cell_type": "code",
      "source": [
        "# Calculating Z-scores for 'BP'\n",
        "z_scores = np.abs((df['BP'] - df['BP'].mean()) / df['BP'].std())\n",
        "outlier_threshold = 1.5  # Adjust the threshold as needed\n",
        "\n",
        "# Removing outliers from 'BP' and creating a new DataFrame\n",
        "df_no_outliers = df[z_scores <= outlier_threshold]"
      ],
      "metadata": {
        "id": "yDpn5JP8-Oi-"
      },
      "execution_count": 76,
      "outputs": []
    },
    {
      "cell_type": "code",
      "source": [
        "# Create a box plot to visualize the 'BP' after removing the  outliers\n",
        "sns.boxplot(x=df_no_outliers['BP'])\n",
        "plt.xlabel('Blood Pressure')\n",
        "plt.title('Box Plot for Blood Pressure (Outliers Removed)')\n",
        "plt.show()\n",
        "\n",
        "# Display the resulting DataFrame without outliers\n",
        "print(df_no_outliers)"
      ],
      "metadata": {
        "colab": {
          "base_uri": "https://localhost:8080/",
          "height": 941
        },
        "id": "zsTmxnU_-TO4",
        "outputId": "999eda83-cfdf-48bb-f902-1e1b8f7dc880"
      },
      "execution_count": 77,
      "outputs": [
        {
          "output_type": "display_data",
          "data": {
            "text/plain": [
              "<Figure size 640x480 with 1 Axes>"
            ],
            "image/png": "[encoded data removed]"
          },
          "metadata": {}
        },
        {
          "output_type": "stream",
          "name": "stdout",
          "text": [
            "     BloodGlucoseLevel  BP  Skin Thickness  InsulinLevel  BodyMassIndex  \\\n",
            "0                148.0  72              35     79.799479           33.6   \n",
            "1                 85.0  66              29     79.799479           26.6   \n",
            "2                183.0  64               0     79.799479           23.3   \n",
            "3                 89.0  66              23     94.000000           28.1   \n",
            "5                116.0  74               0     79.799479           25.6   \n",
            "..                 ...  ..             ...           ...            ...   \n",
            "763              101.0  76              48    180.000000           32.9   \n",
            "764              122.0  70              27     79.799479           36.8   \n",
            "765              121.0  72              23    112.000000           26.2   \n",
            "766              126.0  60               0     79.799479           30.1   \n",
            "767               93.0  70              31     79.799479           30.4   \n",
            "\n",
            "     Age in years  DiabetesOutcome  \n",
            "0              50                1  \n",
            "1              31                0  \n",
            "2              32                1  \n",
            "3              21                0  \n",
            "5              30                0  \n",
            "..            ...              ...  \n",
            "763            63                0  \n",
            "764            27                0  \n",
            "765            30                0  \n",
            "766            47                1  \n",
            "767            23                0  \n",
            "\n",
            "[712 rows x 7 columns]\n"
          ]
        }
      ]
    },
    {
      "cell_type": "code",
      "source": [
        "column_names = df.columns\n",
        "print(column_names)\n"
      ],
      "metadata": {
        "colab": {
          "base_uri": "https://localhost:8080/"
        },
        "id": "nMCDXy7I-89B",
        "outputId": "6821955e-71cd-41cd-f4c4-abd230b74cfd"
      },
      "execution_count": 78,
      "outputs": [
        {
          "output_type": "stream",
          "name": "stdout",
          "text": [
            "Index(['BloodGlucoseLevel', 'BP', 'Skin Thickness', 'InsulinLevel',\n",
            "       'BodyMassIndex', 'Age in years', 'DiabetesOutcome'],\n",
            "      dtype='object')\n"
          ]
        }
      ]
    },
    {
      "cell_type": "code",
      "source": [
        "# creating a calculated field based on two other columns,\n",
        "# Calculate the Insulin Sensitivity Index (ISI)\n",
        "df['INSULIN_SEN_INDEX'] = 10_000 / (df['InsulinLevel'] * df['BloodGlucoseLevel'])\n",
        "\n",
        "# show the data\n",
        "print(df)"
      ],
      "metadata": {
        "colab": {
          "base_uri": "https://localhost:8080/"
        },
        "id": "gnAc1onrAEV8",
        "outputId": "e3fbfb60-0690-4edf-ac37-93021dac71fc"
      },
      "execution_count": 79,
      "outputs": [
        {
          "output_type": "stream",
          "name": "stdout",
          "text": [
            "     BloodGlucoseLevel  BP  Skin Thickness  InsulinLevel  BodyMassIndex  \\\n",
            "0                148.0  72              35     79.799479           33.6   \n",
            "1                 85.0  66              29     79.799479           26.6   \n",
            "2                183.0  64               0     79.799479           23.3   \n",
            "3                 89.0  66              23     94.000000           28.1   \n",
            "4                137.0  40              35    168.000000           43.1   \n",
            "..                 ...  ..             ...           ...            ...   \n",
            "763              101.0  76              48    180.000000           32.9   \n",
            "764              122.0  70              27     79.799479           36.8   \n",
            "765              121.0  72              23    112.000000           26.2   \n",
            "766              126.0  60               0     79.799479           30.1   \n",
            "767               93.0  70              31     79.799479           30.4   \n",
            "\n",
            "     Age in years  DiabetesOutcome  INSULIN_SEN_INDEX  \n",
            "0              50                1           0.846717  \n",
            "1              31                0           1.474284  \n",
            "2              32                1           0.684777  \n",
            "3              21                0           1.195314  \n",
            "4              33                1           0.434480  \n",
            "..            ...              ...                ...  \n",
            "763            63                0           0.550055  \n",
            "764            27                0           1.027165  \n",
            "765            30                0           0.737898  \n",
            "766            47                1           0.994556  \n",
            "767            23                0           1.347463  \n",
            "\n",
            "[768 rows x 8 columns]\n"
          ]
        }
      ]
    },
    {
      "cell_type": "code",
      "source": [
        "# calculated field on glycemic control\n",
        "glycemic_threshold = 130\n",
        "# Create a new column 'GlycemicControl' based on fasting blood glucose levels\n",
        "df['GlycemicControl'] = ['Well-controlled' if glucose <= glycemic_threshold\n",
        "                         else 'Poorly-controlled' for glucose in df['BloodGlucoseLevel']]\n",
        "# Display the data\n",
        "print(df)"
      ],
      "metadata": {
        "colab": {
          "base_uri": "https://localhost:8080/"
        },
        "id": "wUjhRB6WAnSX",
        "outputId": "35c437ea-9eba-477c-c2ed-c869ceaf7e58"
      },
      "execution_count": 80,
      "outputs": [
        {
          "output_type": "stream",
          "name": "stdout",
          "text": [
            "     BloodGlucoseLevel  BP  Skin Thickness  InsulinLevel  BodyMassIndex  \\\n",
            "0                148.0  72              35     79.799479           33.6   \n",
            "1                 85.0  66              29     79.799479           26.6   \n",
            "2                183.0  64               0     79.799479           23.3   \n",
            "3                 89.0  66              23     94.000000           28.1   \n",
            "4                137.0  40              35    168.000000           43.1   \n",
            "..                 ...  ..             ...           ...            ...   \n",
            "763              101.0  76              48    180.000000           32.9   \n",
            "764              122.0  70              27     79.799479           36.8   \n",
            "765              121.0  72              23    112.000000           26.2   \n",
            "766              126.0  60               0     79.799479           30.1   \n",
            "767               93.0  70              31     79.799479           30.4   \n",
            "\n",
            "     Age in years  DiabetesOutcome  INSULIN_SEN_INDEX    GlycemicControl  \n",
            "0              50                1           0.846717  Poorly-controlled  \n",
            "1              31                0           1.474284    Well-controlled  \n",
            "2              32                1           0.684777  Poorly-controlled  \n",
            "3              21                0           1.195314    Well-controlled  \n",
            "4              33                1           0.434480  Poorly-controlled  \n",
            "..            ...              ...                ...                ...  \n",
            "763            63                0           0.550055    Well-controlled  \n",
            "764            27                0           1.027165    Well-controlled  \n",
            "765            30                0           0.737898    Well-controlled  \n",
            "766            47                1           0.994556    Well-controlled  \n",
            "767            23                0           1.347463    Well-controlled  \n",
            "\n",
            "[768 rows x 9 columns]\n"
          ]
        }
      ]
    },
    {
      "cell_type": "code",
      "source": [
        "#remove duplicate rows,\n",
        "duplicates = df[df.duplicated(keep=False)]\n",
        "\n",
        "if duplicates.empty:\n",
        "    print(\"No duplicate rows found in the DataFrame.\")\n",
        "else:\n",
        "    print(\"Duplicate rows are present in the DataFrame.\")\n",
        "\n",
        "    print(duplicates)\n"
      ],
      "metadata": {
        "colab": {
          "base_uri": "https://localhost:8080/"
        },
        "id": "YxelHJFIEdDA",
        "outputId": "1e2182e8-313d-4af9-b4db-e1e58c3da5a7"
      },
      "execution_count": 81,
      "outputs": [
        {
          "output_type": "stream",
          "name": "stdout",
          "text": [
            "No duplicate rows found in the DataFrame.\n"
          ]
        }
      ]
    },
    {
      "cell_type": "code",
      "source": [
        "#any other transformations you think should be performed (if needed, standardizing formats, etc.)\n",
        "df['DiabetesOutcome'] = df['DiabetesOutcome'].map({1: 'Diabetic', 0: 'Non-Diabetic'})"
      ],
      "metadata": {
        "id": "6P8UCqA9Cq80"
      },
      "execution_count": 82,
      "outputs": []
    },
    {
      "cell_type": "code",
      "source": [
        "print(df)"
      ],
      "metadata": {
        "colab": {
          "base_uri": "https://localhost:8080/"
        },
        "id": "HAaZRoKbCtU9",
        "outputId": "480cbc86-789a-4563-c0bb-dcf01571d1eb"
      },
      "execution_count": 83,
      "outputs": [
        {
          "output_type": "stream",
          "name": "stdout",
          "text": [
            "     BloodGlucoseLevel  BP  Skin Thickness  InsulinLevel  BodyMassIndex  \\\n",
            "0                148.0  72              35     79.799479           33.6   \n",
            "1                 85.0  66              29     79.799479           26.6   \n",
            "2                183.0  64               0     79.799479           23.3   \n",
            "3                 89.0  66              23     94.000000           28.1   \n",
            "4                137.0  40              35    168.000000           43.1   \n",
            "..                 ...  ..             ...           ...            ...   \n",
            "763              101.0  76              48    180.000000           32.9   \n",
            "764              122.0  70              27     79.799479           36.8   \n",
            "765              121.0  72              23    112.000000           26.2   \n",
            "766              126.0  60               0     79.799479           30.1   \n",
            "767               93.0  70              31     79.799479           30.4   \n",
            "\n",
            "     Age in years DiabetesOutcome  INSULIN_SEN_INDEX    GlycemicControl  \n",
            "0              50        Diabetic           0.846717  Poorly-controlled  \n",
            "1              31    Non-Diabetic           1.474284    Well-controlled  \n",
            "2              32        Diabetic           0.684777  Poorly-controlled  \n",
            "3              21    Non-Diabetic           1.195314    Well-controlled  \n",
            "4              33        Diabetic           0.434480  Poorly-controlled  \n",
            "..            ...             ...                ...                ...  \n",
            "763            63    Non-Diabetic           0.550055    Well-controlled  \n",
            "764            27    Non-Diabetic           1.027165    Well-controlled  \n",
            "765            30    Non-Diabetic           0.737898    Well-controlled  \n",
            "766            47        Diabetic           0.994556    Well-controlled  \n",
            "767            23    Non-Diabetic           1.347463    Well-controlled  \n",
            "\n",
            "[768 rows x 9 columns]\n"
          ]
        }
      ]
    },
    {
      "cell_type": "code",
      "source": [
        "# Define categories for BMI\n",
        "def categorize_bmi(bmi):\n",
        "    if bmi < 18.5:\n",
        "        return \"Underweight\"\n",
        "    elif 18.5 <= bmi < 24.9:\n",
        "        return \"Normal Weight\"\n",
        "    elif 24.9 <= bmi < 29.9:\n",
        "        return \"Overweight\"\n",
        "    else:\n",
        "        return \"Obese\"\n"
      ],
      "metadata": {
        "id": "1rojbhH8DPJt"
      },
      "execution_count": 84,
      "outputs": []
    },
    {
      "cell_type": "code",
      "source": [
        "# Create the \"BMI_Category\" column based on the \"BodyMassIndex\" values\n",
        "df['BMI_Category'] = df['BodyMassIndex'].apply(categorize_bmi)"
      ],
      "metadata": {
        "id": "kjmz38Z9DgAr"
      },
      "execution_count": 85,
      "outputs": []
    },
    {
      "cell_type": "code",
      "source": [
        "print(df)"
      ],
      "metadata": {
        "colab": {
          "base_uri": "https://localhost:8080/"
        },
        "id": "z0z2cJL7DX9E",
        "outputId": "01086ca6-97d6-4fe4-acd0-629d6213adeb"
      },
      "execution_count": 86,
      "outputs": [
        {
          "output_type": "stream",
          "name": "stdout",
          "text": [
            "     BloodGlucoseLevel  BP  Skin Thickness  InsulinLevel  BodyMassIndex  \\\n",
            "0                148.0  72              35     79.799479           33.6   \n",
            "1                 85.0  66              29     79.799479           26.6   \n",
            "2                183.0  64               0     79.799479           23.3   \n",
            "3                 89.0  66              23     94.000000           28.1   \n",
            "4                137.0  40              35    168.000000           43.1   \n",
            "..                 ...  ..             ...           ...            ...   \n",
            "763              101.0  76              48    180.000000           32.9   \n",
            "764              122.0  70              27     79.799479           36.8   \n",
            "765              121.0  72              23    112.000000           26.2   \n",
            "766              126.0  60               0     79.799479           30.1   \n",
            "767               93.0  70              31     79.799479           30.4   \n",
            "\n",
            "     Age in years DiabetesOutcome  INSULIN_SEN_INDEX    GlycemicControl  \\\n",
            "0              50        Diabetic           0.846717  Poorly-controlled   \n",
            "1              31    Non-Diabetic           1.474284    Well-controlled   \n",
            "2              32        Diabetic           0.684777  Poorly-controlled   \n",
            "3              21    Non-Diabetic           1.195314    Well-controlled   \n",
            "4              33        Diabetic           0.434480  Poorly-controlled   \n",
            "..            ...             ...                ...                ...   \n",
            "763            63    Non-Diabetic           0.550055    Well-controlled   \n",
            "764            27    Non-Diabetic           1.027165    Well-controlled   \n",
            "765            30    Non-Diabetic           0.737898    Well-controlled   \n",
            "766            47        Diabetic           0.994556    Well-controlled   \n",
            "767            23    Non-Diabetic           1.347463    Well-controlled   \n",
            "\n",
            "      BMI_Category  \n",
            "0            Obese  \n",
            "1       Overweight  \n",
            "2    Normal Weight  \n",
            "3       Overweight  \n",
            "4            Obese  \n",
            "..             ...  \n",
            "763          Obese  \n",
            "764          Obese  \n",
            "765     Overweight  \n",
            "766          Obese  \n",
            "767          Obese  \n",
            "\n",
            "[768 rows x 10 columns]\n"
          ]
        }
      ]
    },
    {
      "cell_type": "code",
      "source": [
        "print(df.head())"
      ],
      "metadata": {
        "colab": {
          "base_uri": "https://localhost:8080/"
        },
        "id": "chXnz9S8IIvH",
        "outputId": "a65227a0-43a8-4d27-c9d4-295cc2576124"
      },
      "execution_count": 87,
      "outputs": [
        {
          "output_type": "stream",
          "name": "stdout",
          "text": [
            "   BloodGlucoseLevel  BP  Skin Thickness  InsulinLevel  BodyMassIndex  \\\n",
            "0              148.0  72              35     79.799479           33.6   \n",
            "1               85.0  66              29     79.799479           26.6   \n",
            "2              183.0  64               0     79.799479           23.3   \n",
            "3               89.0  66              23     94.000000           28.1   \n",
            "4              137.0  40              35    168.000000           43.1   \n",
            "\n",
            "   Age in years DiabetesOutcome  INSULIN_SEN_INDEX    GlycemicControl  \\\n",
            "0            50        Diabetic           0.846717  Poorly-controlled   \n",
            "1            31    Non-Diabetic           1.474284    Well-controlled   \n",
            "2            32        Diabetic           0.684777  Poorly-controlled   \n",
            "3            21    Non-Diabetic           1.195314    Well-controlled   \n",
            "4            33        Diabetic           0.434480  Poorly-controlled   \n",
            "\n",
            "    BMI_Category  \n",
            "0          Obese  \n",
            "1     Overweight  \n",
            "2  Normal Weight  \n",
            "3     Overweight  \n",
            "4          Obese  \n"
          ]
        }
      ]
    },
    {
      "cell_type": "code",
      "source": [
        "# Saving the final dataset to a CSV file\n",
        "df.to_csv('diabetes_new.csv', index=False)\n"
      ],
      "metadata": {
        "id": "ZwDwXZZwJIlf"
      },
      "execution_count": 88,
      "outputs": []
    },
    {
      "cell_type": "code",
      "source": [
        "print(df.dtypes)"
      ],
      "metadata": {
        "colab": {
          "base_uri": "https://localhost:8080/"
        },
        "id": "e7KsvZouL0FD",
        "outputId": "599f0226-5149-4c46-8497-c445ff012680"
      },
      "execution_count": 89,
      "outputs": [
        {
          "output_type": "stream",
          "name": "stdout",
          "text": [
            "BloodGlucoseLevel    float64\n",
            "BP                     int64\n",
            "Skin Thickness         int64\n",
            "InsulinLevel         float64\n",
            "BodyMassIndex        float64\n",
            "Age in years           int64\n",
            "DiabetesOutcome       object\n",
            "INSULIN_SEN_INDEX    float64\n",
            "GlycemicControl       object\n",
            "BMI_Category          object\n",
            "dtype: object\n"
          ]
        }
      ]
    },
    {
      "cell_type": "code",
      "source": [
        "print(df)"
      ],
      "metadata": {
        "colab": {
          "base_uri": "https://localhost:8080/"
        },
        "id": "ORyaQbmG7LSx",
        "outputId": "6d790b36-9ffe-449c-9add-2d95874d0116"
      },
      "execution_count": 90,
      "outputs": [
        {
          "output_type": "stream",
          "name": "stdout",
          "text": [
            "     BloodGlucoseLevel  BP  Skin Thickness  InsulinLevel  BodyMassIndex  \\\n",
            "0                148.0  72              35     79.799479           33.6   \n",
            "1                 85.0  66              29     79.799479           26.6   \n",
            "2                183.0  64               0     79.799479           23.3   \n",
            "3                 89.0  66              23     94.000000           28.1   \n",
            "4                137.0  40              35    168.000000           43.1   \n",
            "..                 ...  ..             ...           ...            ...   \n",
            "763              101.0  76              48    180.000000           32.9   \n",
            "764              122.0  70              27     79.799479           36.8   \n",
            "765              121.0  72              23    112.000000           26.2   \n",
            "766              126.0  60               0     79.799479           30.1   \n",
            "767               93.0  70              31     79.799479           30.4   \n",
            "\n",
            "     Age in years DiabetesOutcome  INSULIN_SEN_INDEX    GlycemicControl  \\\n",
            "0              50        Diabetic           0.846717  Poorly-controlled   \n",
            "1              31    Non-Diabetic           1.474284    Well-controlled   \n",
            "2              32        Diabetic           0.684777  Poorly-controlled   \n",
            "3              21    Non-Diabetic           1.195314    Well-controlled   \n",
            "4              33        Diabetic           0.434480  Poorly-controlled   \n",
            "..            ...             ...                ...                ...   \n",
            "763            63    Non-Diabetic           0.550055    Well-controlled   \n",
            "764            27    Non-Diabetic           1.027165    Well-controlled   \n",
            "765            30    Non-Diabetic           0.737898    Well-controlled   \n",
            "766            47        Diabetic           0.994556    Well-controlled   \n",
            "767            23    Non-Diabetic           1.347463    Well-controlled   \n",
            "\n",
            "      BMI_Category  \n",
            "0            Obese  \n",
            "1       Overweight  \n",
            "2    Normal Weight  \n",
            "3       Overweight  \n",
            "4            Obese  \n",
            "..             ...  \n",
            "763          Obese  \n",
            "764          Obese  \n",
            "765     Overweight  \n",
            "766          Obese  \n",
            "767          Obese  \n",
            "\n",
            "[768 rows x 10 columns]\n"
          ]
        }
      ]
    },
    {
      "cell_type": "code",
      "source": [
        "data = pd.read_csv('/content/diabetes_new.csv')\n",
        "data.info()"
      ],
      "metadata": {
        "colab": {
          "base_uri": "https://localhost:8080/"
        },
        "id": "cDIBMMMY7cdy",
        "outputId": "2e44070c-39a7-416f-9e6a-c360bf529098"
      },
      "execution_count": 91,
      "outputs": [
        {
          "output_type": "stream",
          "name": "stdout",
          "text": [
            "<class 'pandas.core.frame.DataFrame'>\n",
            "RangeIndex: 768 entries, 0 to 767\n",
            "Data columns (total 10 columns):\n",
            " #   Column             Non-Null Count  Dtype  \n",
            "---  ------             --------------  -----  \n",
            " 0   BloodGlucoseLevel  768 non-null    float64\n",
            " 1   BP                 768 non-null    int64  \n",
            " 2   Skin Thickness     768 non-null    int64  \n",
            " 3   InsulinLevel       768 non-null    float64\n",
            " 4   BodyMassIndex      768 non-null    float64\n",
            " 5   Age in years       768 non-null    int64  \n",
            " 6   DiabetesOutcome    768 non-null    object \n",
            " 7   INSULIN_SEN_INDEX  768 non-null    float64\n",
            " 8   GlycemicControl    768 non-null    object \n",
            " 9   BMI_Category       768 non-null    object \n",
            "dtypes: float64(4), int64(3), object(3)\n",
            "memory usage: 60.1+ KB\n"
          ]
        }
      ]
    },
    {
      "cell_type": "code",
      "source": [
        "data.describe"
      ],
      "metadata": {
        "colab": {
          "base_uri": "https://localhost:8080/"
        },
        "id": "uO-tilOkKtn1",
        "outputId": "33762a07-2e2b-4bfa-edf8-09d3a1cb70b9"
      },
      "execution_count": 92,
      "outputs": [
        {
          "output_type": "execute_result",
          "data": {
            "text/plain": [
              "<bound method NDFrame.describe of      BloodGlucoseLevel  BP  Skin Thickness  InsulinLevel  BodyMassIndex  \\\n",
              "0                148.0  72              35     79.799479           33.6   \n",
              "1                 85.0  66              29     79.799479           26.6   \n",
              "2                183.0  64               0     79.799479           23.3   \n",
              "3                 89.0  66              23     94.000000           28.1   \n",
              "4                137.0  40              35    168.000000           43.1   \n",
              "..                 ...  ..             ...           ...            ...   \n",
              "763              101.0  76              48    180.000000           32.9   \n",
              "764              122.0  70              27     79.799479           36.8   \n",
              "765              121.0  72              23    112.000000           26.2   \n",
              "766              126.0  60               0     79.799479           30.1   \n",
              "767               93.0  70              31     79.799479           30.4   \n",
              "\n",
              "     Age in years DiabetesOutcome  INSULIN_SEN_INDEX    GlycemicControl  \\\n",
              "0              50        Diabetic           0.846717  Poorly-controlled   \n",
              "1              31    Non-Diabetic           1.474284    Well-controlled   \n",
              "2              32        Diabetic           0.684777  Poorly-controlled   \n",
              "3              21    Non-Diabetic           1.195314    Well-controlled   \n",
              "4              33        Diabetic           0.434480  Poorly-controlled   \n",
              "..            ...             ...                ...                ...   \n",
              "763            63    Non-Diabetic           0.550055    Well-controlled   \n",
              "764            27    Non-Diabetic           1.027165    Well-controlled   \n",
              "765            30    Non-Diabetic           0.737898    Well-controlled   \n",
              "766            47        Diabetic           0.994556    Well-controlled   \n",
              "767            23    Non-Diabetic           1.347463    Well-controlled   \n",
              "\n",
              "      BMI_Category  \n",
              "0            Obese  \n",
              "1       Overweight  \n",
              "2    Normal Weight  \n",
              "3       Overweight  \n",
              "4            Obese  \n",
              "..             ...  \n",
              "763          Obese  \n",
              "764          Obese  \n",
              "765     Overweight  \n",
              "766          Obese  \n",
              "767          Obese  \n",
              "\n",
              "[768 rows x 10 columns]>"
            ]
          },
          "metadata": {},
          "execution_count": 92
        }
      ]
    }
  ]
}